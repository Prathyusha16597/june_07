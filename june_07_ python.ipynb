{
 "cells": [
  {
   "cell_type": "code",
   "execution_count": 7,
   "id": "0d36bec2",
   "metadata": {},
   "outputs": [
    {
     "name": "stdout",
     "output_type": "stream",
     "text": [
      "Enter a how many numbers : 5\n",
      "Enter a numbers : 90\n",
      "Enter a numbers : 23\n",
      "Enter a numbers : 13\n",
      "Enter a numbers : 67\n",
      "Enter a numbers : 45\n",
      "90\n",
      "13\n",
      "238\n",
      "0\n",
      "47.6\n"
     ]
    }
   ],
   "source": [
    "\n",
    "#  input any 5 numbers and store in set\n",
    "#    find the highest number\n",
    "#    find the lowest number\n",
    "#    find the avg of all the numbers\n",
    "#    display the set in DESC order of number\n",
    "h=0\n",
    "l=999999\n",
    "c=0\n",
    "s=0\n",
    "n=int(input(\"Enter a how many numbers : \"))\n",
    "for i in range(1,n+1):\n",
    "    n1=int(input(\"Enter a numbers : \"))\n",
    "    s=s+n1\n",
    "    if n1>h:\n",
    "        h=n1\n",
    "    if n1<l:\n",
    "        l=n1\n",
    "print(h)\n",
    "print(l)\n",
    "print(s)\n",
    "print(s/n)\n"
   ]
  },
  {
   "cell_type": "code",
   "execution_count": 12,
   "id": "4435ffb1",
   "metadata": {},
   "outputs": [
    {
     "name": "stdout",
     "output_type": "stream",
     "text": [
      "the original list :  [89, 23, 20, 82, 13]\n",
      "20 82 "
     ]
    }
   ],
   "source": [
    "def print_even(test_list):\n",
    "    for i in test_list:\n",
    "        if i%2==0:\n",
    "            yield i\n",
    "test_list=[89,23,20,82,13]\n",
    "print(\"the original list : \",test_list)\n",
    "for j in print_even(test_list):\n",
    "    print(j,end=\" \")"
   ]
  },
  {
   "cell_type": "code",
   "execution_count": 15,
   "id": "e1c05cc0",
   "metadata": {},
   "outputs": [
    {
     "name": "stdout",
     "output_type": "stream",
     "text": [
      "1\n",
      "4\n",
      "9\n",
      "16\n",
      "25\n",
      "36\n",
      "49\n",
      "64\n",
      "81\n",
      "100\n",
      "121\n",
      "144\n",
      "169\n",
      "196\n"
     ]
    }
   ],
   "source": [
    "def nextSquare():\n",
    "    i=1\n",
    "    while True:\n",
    "        yield i*i\n",
    "        i+=1\n",
    "for num in nextSquare():\n",
    "    if num>200:\n",
    "        break\n",
    "    print(num)"
   ]
  },
  {
   "cell_type": "code",
   "execution_count": 31,
   "id": "80f64d4c",
   "metadata": {},
   "outputs": [
    {
     "name": "stdout",
     "output_type": "stream",
     "text": [
      "[('Arjun', 34), ('Klaus', 45), ('Damon', 67), ('stefan', 56), ('rick', 78), ('matt', 30), ('kole', 44)]\n",
      "{'Arjun': 34, 'Klaus': 45, 'Damon': 67, 'stefan': 56, 'rick': 78, 'matt': 30, 'kole': 44}\n"
     ]
    }
   ],
   "source": [
    "markdict={\"Arjun\":34,\"Klaus\":45,\"Damon\":67,\"stefan\":56,\"rick\":78,'matt':30,\"kole\":44}\n",
    "marklist=list(markdict.items())\n",
    "print(marklist)\n",
    "l=len(marklist)\n",
    "for i in range(l-1):\n",
    "    for j in range(i+1,1):\n",
    "        if marklist[i][1]>marklist[j][1]:\n",
    "            t=marklist[i]\n",
    "            marklist[i]=marklist[j]\n",
    "            marklist[j]=t\n",
    "    sortdict=dict(marklist)\n",
    "print(sortdict)\n",
    "# print(dict1)\n",
    "# print(lst)"
   ]
  },
  {
   "cell_type": "code",
   "execution_count": 39,
   "id": "8c01148a",
   "metadata": {},
   "outputs": [
    {
     "name": "stdout",
     "output_type": "stream",
     "text": [
      "[1, 2, 3, 4, 'p', 'r', 'a', 't', 'h', 'y', 'u', 's', 'h', 'a', 'Ten', 'Twenty', 'Thirty', 1.1, 10.0, (1+2j), 20.55, 3.142]\n"
     ]
    }
   ],
   "source": [
    "nestedlist = [ [1, 2, 3, 4],-1060,'prathyusha',[\"Ten\", \"Twenty\", \"Thirty\"], [1.1,  1.0E1, 1+2j, 20.55, 3.142]]\n",
    "flatten_list=[]\n",
    "for i in nestedlist:\n",
    "    for num in i:\n",
    "        flatten_list.append(num)\n",
    "print(flatten_list)\n"
   ]
  },
  {
   "cell_type": "code",
   "execution_count": 47,
   "id": "8f205ef7",
   "metadata": {},
   "outputs": [
    {
     "name": "stdout",
     "output_type": "stream",
     "text": [
      "[('Arjun', 34), ('Klaus', 45), ('Damon', 67), ('stefan', 56), ('rick', 78), ('matt', 30), ('kole', 44), ('Zaher', 99)]\n",
      "{'matt': 30, 'Arjun': 34, 'kole': 44, 'Klaus': 45, 'stefan': 56, 'Damon': 67, 'rick': 78, 'Zaher': 99}\n"
     ]
    }
   ],
   "source": [
    "markdict={\"Arjun\":34,\"Klaus\":45,\"Damon\":67,\"stefan\":56,\"rick\":78,'matt':30,\"kole\":44,\"Zaher\":99}\n",
    "marklist=list(markdict.items())\n",
    "print(marklist)\n",
    "l=len(marklist)\n",
    "#marklist=sorted(markdict.items(), key=lambda x:x[1],reverse=False)\n",
    "#sortdict=dict(marklist)\n",
    "#print(marklist)\n",
    "marklist=sorted((value,key)for (key,value) in markdict.items())\n",
    "sortdict=dict([(k,v) for v,k in marklist])\n",
    "print(sortdict)"
   ]
  },
  {
   "cell_type": "code",
   "execution_count": 1,
   "id": "7bb143bd",
   "metadata": {},
   "outputs": [
    {
     "name": "stdout",
     "output_type": "stream",
     "text": [
      "enter the number: 69875\n",
      "five digit number\n"
     ]
    }
   ],
   "source": [
    "#  input a number and display one of the following\n",
    "#    it is a SINGLE digit number ::: if it is 1 to 9\n",
    "#    it is DOUBLE digit number ::: if it is 10 to 99\n",
    "#    and so on...\n",
    "#    do it till SIX digit number\n",
    "#    if number is above SIX digits then display this number is LARGE number\n",
    "#    Note\n",
    "#    if the user inputs a NEGATIVE number then - donot do the above processing\n",
    "#    instead display :: cannot process NEGATIVE numbers\n",
    "number=int(input(\"enter the number: \"))\n",
    "if number>=1 and number<=9:\n",
    "    print(\"single digit number\")\n",
    "elif number>=10 and number<=99:\n",
    "    print(\"two digit number\")\n",
    "elif number>=100 and number<=999:\n",
    "    print(\"three digit number\")\n",
    "elif number>=1000 and number<=9999:\n",
    "    print(\"four digit number\")\n",
    "elif number>=10000 and number<=99999:\n",
    "    print(\"five digit number\")\n",
    "elif number>=100000 and number<=999999:\n",
    "    print(\"six digit number\")\n",
    "else:\n",
    "    if number<0:\n",
    "        print(\"cannot process negative number\")\n",
    "    elif number>=1000000:\n",
    "        print(\"number is large\")"
   ]
  },
  {
   "cell_type": "code",
   "execution_count": 2,
   "id": "f11e6818",
   "metadata": {},
   "outputs": [
    {
     "name": "stdout",
     "output_type": "stream",
     "text": [
      "{'Kane': 43, 'Tina': 54, 'Tom': 67, 'Divya': 73, 'Akbar': 87}\n"
     ]
    }
   ],
   "source": [
    "import operator\n",
    "\n",
    "markdict = {\"Tom\":67, \"Tina\": 54, \"Akbar\": 87, \"Kane\": 43, \"Divya\":73}\n",
    "marklist= sorted(markdict.items(), key=operator.itemgetter(1)) \n",
    "sortdict=dict(marklist)\n",
    "print(sortdict)"
   ]
  },
  {
   "cell_type": "code",
   "execution_count": 3,
   "id": "84215b4f",
   "metadata": {},
   "outputs": [
    {
     "name": "stdout",
     "output_type": "stream",
     "text": [
      "[3, 100, 5, 10, 15, 20, 25, 30]\n"
     ]
    }
   ],
   "source": [
    "mylist=[5,10,15,20,3,15,25,20,30,10,100]\n",
    "myset=set(mylist)\n",
    "print(list(myset))"
   ]
  },
  {
   "cell_type": "code",
   "execution_count": 4,
   "id": "9e64b1b2",
   "metadata": {},
   "outputs": [
    {
     "name": "stdout",
     "output_type": "stream",
     "text": [
      "[5, 10, 15, 20, 3, 25, 30, 100]\n"
     ]
    }
   ],
   "source": [
    "uniques=[]\n",
    "for num in mylist:\n",
    "    if num not in uniques:\n",
    "        uniques.append(num)\n",
    "print(uniques)"
   ]
  },
  {
   "cell_type": "code",
   "execution_count": null,
   "id": "9d9ad642",
   "metadata": {},
   "outputs": [],
   "source": []
  }
 ],
 "metadata": {
  "kernelspec": {
   "display_name": "Python 3",
   "language": "python",
   "name": "python3"
  },
  "language_info": {
   "codemirror_mode": {
    "name": "ipython",
    "version": 3
   },
   "file_extension": ".py",
   "mimetype": "text/x-python",
   "name": "python",
   "nbconvert_exporter": "python",
   "pygments_lexer": "ipython3",
   "version": "3.8.8"
  }
 },
 "nbformat": 4,
 "nbformat_minor": 5
}
